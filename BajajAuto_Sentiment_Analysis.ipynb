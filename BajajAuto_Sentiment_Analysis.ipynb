{
  "nbformat": 4,
  "nbformat_minor": 0,
  "metadata": {
    "colab": {
      "provenance": [],
      "authorship_tag": "ABX9TyMeMCaHKQRFl9QSxmOV/Efd",
      "include_colab_link": true
    },
    "kernelspec": {
      "name": "python3",
      "display_name": "Python 3"
    },
    "language_info": {
      "name": "python"
    }
  },
  "cells": [
    {
      "cell_type": "markdown",
      "metadata": {
        "id": "view-in-github",
        "colab_type": "text"
      },
      "source": [
        "<a href=\"https://colab.research.google.com/github/qri0usmind/Equity-Research---Bajaj-Auto/blob/main/BajajAuto_Sentiment_Analysis.ipynb\" target=\"_parent\"><img src=\"https://colab.research.google.com/assets/colab-badge.svg\" alt=\"Open In Colab\"/></a>"
      ]
    },
    {
      "cell_type": "code",
      "execution_count": null,
      "metadata": {
        "id": "M50nhxeIwhFJ",
        "colab": {
          "base_uri": "https://localhost:8080/"
        },
        "outputId": "ff847adf-580e-4314-b6d1-1962dee9e392"
      },
      "outputs": [
        {
          "output_type": "stream",
          "name": "stdout",
          "text": [
            "Headlines saved to bajaj_auto_headlines.csv\n"
          ]
        }
      ],
      "source": [
        "import requests\n",
        "from bs4 import BeautifulSoup\n",
        "import pandas as pd\n",
        "from datetime import datetime, timedelta\n",
        "\n",
        "def scrape_headlines(days=60):\n",
        "    headlines = []\n",
        "    dates = []\n",
        "    base_url = \"https://economictimes.indiatimes.com/bajaj-auto-ltd/stocksupdate/companyid-21430.cms\"\n",
        "\n",
        "    for i in range(days):\n",
        "        scrape_date = datetime.now() - timedelta(days=i)\n",
        "        formatted_scrape_date = scrape_date.strftime('%d-%m-%Y')\n",
        "        url = f\"{base_url}?date={formatted_scrape_date}\"\n",
        "\n",
        "        response = requests.get(url)\n",
        "        soup = BeautifulSoup(response.content, 'html.parser')\n",
        "\n",
        "        for article in soup.find_all('div', class_='eachStory'):\n",
        "            headline = article.find('h3').text.strip()\n",
        "\n",
        "            # Extract and parse the date from the article, if available\n",
        "            date_element = article.find('time')\n",
        "            if date_element and date_element.get('datetime'):\n",
        "                article_date = datetime.strptime(date_element['datetime'], '%Y-%m-%d %H:%M:%S')\n",
        "            else:\n",
        "                # If no specific date found, use the scrape date\n",
        "                article_date = scrape_date\n",
        "\n",
        "            # Format the date consistently\n",
        "            formatted_date = article_date.strftime('%Y-%m-%d')\n",
        "\n",
        "            headlines.append(headline)\n",
        "            dates.append(formatted_date)\n",
        "\n",
        "    df = pd.DataFrame({'Date': dates, 'Headline': headlines})\n",
        "    return df\n",
        "\n",
        "# Scrape headlines for the last 30 days\n",
        "headlines_df = scrape_headlines(60)\n",
        "\n",
        "# Sort the dataframe by date\n",
        "headlines_df['Date'] = pd.to_datetime(headlines_df['Date'])\n",
        "headlines_df = headlines_df.sort_values('Date')\n",
        "\n",
        "# Save to CSV\n",
        "headlines_df.to_csv('bajaj_auto_headlines.csv', index=False)\n",
        "print(\"Headlines saved to bajaj_auto_headlines.csv\")"
      ]
    },
    {
      "cell_type": "code",
      "source": [
        "import yfinance as yf\n",
        "import pandas as pd\n",
        "from datetime import datetime, timedelta\n",
        "\n",
        "def fetch_stock_data(symbol, days=60):\n",
        "    end_date = datetime.now()\n",
        "    start_date = end_date - timedelta(days=days)\n",
        "\n",
        "    stock = yf.Ticker(symbol)\n",
        "    data = stock.history(start=start_date, end=end_date)\n",
        "\n",
        "    # Calculate daily price change\n",
        "    data['Price_Change'] = data['Close'].pct_change()\n",
        "\n",
        "    # Convert to binary (1 for increase, 0 for decrease or no change)\n",
        "    data['Stock_Movement'] = (data['Price_Change'] > 0).astype(int)\n",
        "\n",
        "    # Reset index to make Date a column\n",
        "    data = data.reset_index()\n",
        "\n",
        "    # Format the date consistently\n",
        "    data['Date'] = data['Date'].dt.strftime('%Y-%m-%d')\n",
        "\n",
        "    # Keep only Date and Stock_Movement columns\n",
        "    data = data[['Date', 'Stock_Movement']]\n",
        "\n",
        "    return data\n",
        "\n",
        "# Fetch Bajaj Auto stock data (adjust the symbol if needed)\n",
        "stock_data = fetch_stock_data(\"BAJAJ-AUTO.NS\", 60)\n",
        "\n",
        "# Save to CSV\n",
        "stock_data.to_csv('bajaj_auto_stock_movement.csv', index=False)\n",
        "print(\"Stock data saved to bajaj_auto_stock_movement.csv\")"
      ],
      "metadata": {
        "colab": {
          "base_uri": "https://localhost:8080/"
        },
        "id": "Y-2ITekoFH4s",
        "outputId": "20c9504b-2426-436d-a28e-7b9fb8b30e75"
      },
      "execution_count": null,
      "outputs": [
        {
          "output_type": "stream",
          "name": "stdout",
          "text": [
            "Stock data saved to bajaj_auto_stock_movement.csv\n"
          ]
        }
      ]
    },
    {
      "cell_type": "code",
      "source": [
        "import pandas as pd\n",
        "import nltk\n",
        "from nltk.corpus import stopwords\n",
        "from nltk.tokenize import word_tokenize\n",
        "import string\n",
        "\n",
        "# Download necessary NLTK data\n",
        "nltk.download('punkt')\n",
        "nltk.download('stopwords')\n",
        "\n",
        "def preprocess_data(headlines_file, stock_file):\n",
        "    # Load data\n",
        "    headlines_df = pd.read_csv(headlines_file)\n",
        "    stock_df = pd.read_csv(stock_file)\n",
        "\n",
        "    # Merge dataframes\n",
        "    df = pd.merge(headlines_df, stock_df, on='Date', how='inner')\n",
        "\n",
        "    # Preprocess headlines\n",
        "    def clean_text(text):\n",
        "        # Convert to lowercase\n",
        "        text = text.lower()\n",
        "        # Remove punctuation\n",
        "        text = text.translate(str.maketrans('', '', string.punctuation))\n",
        "        # Tokenize\n",
        "        tokens = word_tokenize(text)\n",
        "        # Remove stopwords\n",
        "        stop_words = set(stopwords.words('english'))\n",
        "        tokens = [word for word in tokens if word not in stop_words]\n",
        "        return ' '.join(tokens)\n",
        "\n",
        "    df['Cleaned_Headline'] = df['Headline'].apply(clean_text)\n",
        "\n",
        "    return df\n",
        "\n",
        "# Use the function\n",
        "processed_df = preprocess_data('bajaj_auto_headlines.csv', 'bajaj_auto_stock_movement.csv')\n",
        "processed_df.to_csv('processed_data.csv', index=False)\n",
        "print(\"Processed data saved to processed_data.csv\")"
      ],
      "metadata": {
        "colab": {
          "base_uri": "https://localhost:8080/"
        },
        "id": "zqE0M_YnGEq7",
        "outputId": "a5edb8c4-9ad2-4c89-f72e-103a21083906"
      },
      "execution_count": null,
      "outputs": [
        {
          "output_type": "stream",
          "name": "stderr",
          "text": [
            "[nltk_data] Downloading package punkt to /root/nltk_data...\n",
            "[nltk_data]   Unzipping tokenizers/punkt.zip.\n",
            "[nltk_data] Downloading package stopwords to /root/nltk_data...\n",
            "[nltk_data]   Unzipping corpora/stopwords.zip.\n"
          ]
        },
        {
          "output_type": "stream",
          "name": "stdout",
          "text": [
            "Processed data saved to processed_data.csv\n"
          ]
        }
      ]
    },
    {
      "cell_type": "code",
      "source": [
        "from sklearn.feature_extraction.text import CountVectorizer\n",
        "from sklearn.model_selection import train_test_split\n",
        "import pandas as pd\n",
        "import numpy as np\n",
        "\n",
        "def extract_features(data_file, max_features=1000):\n",
        "    # Load processed data\n",
        "    df = pd.read_csv(data_file)\n",
        "\n",
        "    # Create Bag-of-Words representation\n",
        "    vectorizer = CountVectorizer(max_features=max_features)\n",
        "    bow_matrix = vectorizer.fit_transform(df['Cleaned_Headline'])\n",
        "\n",
        "    # Convert to DataFrame\n",
        "    bow_df = pd.DataFrame(bow_matrix.toarray(), columns=vectorizer.get_feature_names_out())\n",
        "\n",
        "    # Combine with stock movement\n",
        "    final_df = pd.concat([bow_df, df['Stock_Movement']], axis=1)\n",
        "\n",
        "    # Split into training and testing sets\n",
        "    X = final_df.drop('Stock_Movement', axis=1)\n",
        "    y = final_df['Stock_Movement']\n",
        "    X_train, X_test, y_train, y_test = train_test_split(X, y, test_size=0.2, random_state=42)\n",
        "\n",
        "    return X_train, X_test, y_train, y_test, vectorizer\n",
        "\n",
        "# Use the function\n",
        "X_train, X_test, y_train, y_test, vectorizer = extract_features('processed_data.csv')\n",
        "\n",
        "print(\"Feature extraction completed.\")\n",
        "print(f\"Training set shape: {X_train.shape}\")\n",
        "print(f\"Testing set shape: {X_test.shape}\")\n",
        "\n",
        "# Save the vectorizer for later use\n",
        "import joblib\n",
        "joblib.dump(vectorizer, 'bow_vectorizer.joblib')\n",
        "print(\"Vectorizer saved as bow_vectorizer.joblib\")"
      ],
      "metadata": {
        "colab": {
          "base_uri": "https://localhost:8080/"
        },
        "id": "91eWAXbgHOAf",
        "outputId": "2e7b2507-8703-4aa6-d552-f2953b416cb8"
      },
      "execution_count": null,
      "outputs": [
        {
          "output_type": "stream",
          "name": "stdout",
          "text": [
            "Feature extraction completed.\n",
            "Training set shape: (1312, 204)\n",
            "Testing set shape: (328, 204)\n",
            "Vectorizer saved as bow_vectorizer.joblib\n"
          ]
        }
      ]
    },
    {
      "cell_type": "code",
      "source": [
        "import pandas as pd\n",
        "import nltk\n",
        "from nltk.sentiment import SentimentIntensityAnalyzer\n",
        "import matplotlib.pyplot as plt\n",
        "\n",
        "# Download necessary NLTK data\n",
        "nltk.download('vader_lexicon')\n",
        "\n",
        "def analyze_sentiment(data_file):\n",
        "    # Load processed data\n",
        "    df = pd.read_csv(data_file)\n",
        "\n",
        "    # Initialize VADER sentiment analyzer\n",
        "    sia = SentimentIntensityAnalyzer()\n",
        "\n",
        "    # Perform sentiment analysis\n",
        "    df['Sentiment_Scores'] = df['Cleaned_Headline'].apply(lambda x: sia.polarity_scores(x))\n",
        "    df['Sentiment'] = df['Sentiment_Scores'].apply(lambda x: x['compound'])\n",
        "\n",
        "    # Categorize sentiment\n",
        "    df['Sentiment_Category'] = df['Sentiment'].apply(lambda x: 'Positive' if x > 0 else ('Negative' if x < 0 else 'Neutral'))\n",
        "\n",
        "    # Save results\n",
        "    df.to_csv('sentiment_analyzed_data.csv', index=False)\n",
        "    print(\"Sentiment analysis completed. Results saved to sentiment_analyzed_data.csv\")\n",
        "\n",
        "    # Visualize sentiment distribution\n",
        "    plt.figure(figsize=(10, 6))\n",
        "    df['Sentiment_Category'].value_counts().plot(kind='bar')\n",
        "    plt.title('Distribution of Sentiment Categories')\n",
        "    plt.xlabel('Sentiment Category')\n",
        "    plt.ylabel('Count')\n",
        "    plt.savefig('sentiment_distribution.png')\n",
        "    print(\"Sentiment distribution plot saved as sentiment_distribution.png\")\n",
        "\n",
        "    return df\n",
        "\n",
        "# Use the function\n",
        "sentiment_df = analyze_sentiment('processed_data.csv')\n",
        "print(sentiment_df[['Date', 'Cleaned_Headline', 'Sentiment', 'Sentiment_Category', 'Stock_Movement']].head())"
      ],
      "metadata": {
        "colab": {
          "base_uri": "https://localhost:8080/",
          "height": 763
        },
        "id": "lreJveWnHnwI",
        "outputId": "2e3d0d16-b01a-46e3-a1de-42138b2f13af"
      },
      "execution_count": null,
      "outputs": [
        {
          "output_type": "stream",
          "name": "stderr",
          "text": [
            "[nltk_data] Downloading package vader_lexicon to /root/nltk_data...\n"
          ]
        },
        {
          "output_type": "stream",
          "name": "stdout",
          "text": [
            "Sentiment analysis completed. Results saved to sentiment_analyzed_data.csv\n",
            "Sentiment distribution plot saved as sentiment_distribution.png\n",
            "         Date                                   Cleaned_Headline  Sentiment  \\\n",
            "0  2024-07-22  nifty could move towards 25600 technical analysts     0.4019   \n",
            "1  2024-07-22  bajaj auto announcement regulation 30 securiti...     0.2960   \n",
            "2  2024-07-22  market wrap investors cautious ahead powell sp...     0.5719   \n",
            "3  2024-07-22  technical view decisive moveup could take nift...     0.5574   \n",
            "4  2024-07-22  bajaj auto intimation regulation 30 securities...     0.2960   \n",
            "\n",
            "  Sentiment_Category  Stock_Movement  \n",
            "0           Positive               0  \n",
            "1           Positive               0  \n",
            "2           Positive               0  \n",
            "3           Positive               0  \n",
            "4           Positive               0  \n"
          ]
        },
        {
          "output_type": "display_data",
          "data": {
            "text/plain": [
              "<Figure size 1000x600 with 1 Axes>"
            ],
            "image/png": "[encoded data removed]"
          },
          "metadata": {}
        }
      ]
    },
    {
      "cell_type": "code",
      "source": [
        "import pandas as pd\n",
        "import matplotlib.pyplot as plt\n",
        "import seaborn as sns\n",
        "from scipy import stats\n",
        "\n",
        "def analyze_correlation(data_file):\n",
        "    # Load sentiment analyzed data\n",
        "    df = pd.read_csv(data_file)\n",
        "\n",
        "    # Calculate correlation\n",
        "    correlation = df['Sentiment'].corr(df['Stock_Movement'])\n",
        "    print(f\"Correlation between Sentiment and Stock Movement: {correlation}\")\n",
        "\n",
        "    # Perform t-test\n",
        "    t_stat, p_value = stats.ttest_ind(df[df['Stock_Movement'] == 1]['Sentiment'],\n",
        "                                      df[df['Stock_Movement'] == 0]['Sentiment'])\n",
        "    print(f\"T-statistic: {t_stat}, p-value: {p_value}\")\n",
        "\n",
        "    # Visualize relationship\n",
        "    plt.figure(figsize=(10, 6))\n",
        "    sns.boxplot(x='Stock_Movement', y='Sentiment', data=df)\n",
        "    plt.title('Sentiment Distribution by Stock Movement')\n",
        "    plt.xlabel('Stock Movement (0: Down, 1: Up)')\n",
        "    plt.ylabel('Sentiment Score')\n",
        "    plt.savefig('sentiment_vs_stock_movement.png')\n",
        "    print(\"Visualization saved as sentiment_vs_stock_movement.png\")\n",
        "\n",
        "    # Analyze impact of specific words\n",
        "    word_impact = {}\n",
        "    for word in set(' '.join(df['Cleaned_Headline']).split()):\n",
        "        word_present = df['Cleaned_Headline'].str.contains(word)\n",
        "        if word_present.sum() > 5:  # Only consider words that appear in more than 5 headlines\n",
        "            avg_sentiment_with_word = df[word_present]['Sentiment'].mean()\n",
        "            avg_sentiment_without_word = df[~word_present]['Sentiment'].mean()\n",
        "            word_impact[word] = avg_sentiment_with_word - avg_sentiment_without_word\n",
        "\n",
        "    # Sort words by impact\n",
        "    sorted_words = sorted(word_impact.items(), key=lambda x: abs(x[1]), reverse=True)\n",
        "\n",
        "    print(\"\\nTop 10 words with highest impact on sentiment:\")\n",
        "    for word, impact in sorted_words[:10]:\n",
        "        print(f\"{word}: {impact}\")\n",
        "\n",
        "    return df, word_impact\n",
        "\n",
        "# Use the function\n",
        "analyzed_df, word_impact = analyze_correlation('sentiment_analyzed_data.csv')"
      ],
      "metadata": {
        "colab": {
          "base_uri": "https://localhost:8080/",
          "height": 686
        },
        "id": "rLqLX-4jIdj6",
        "outputId": "72619acc-bc5d-4b1f-b3b5-1dc597c7eae8"
      },
      "execution_count": null,
      "outputs": [
        {
          "output_type": "stream",
          "name": "stdout",
          "text": [
            "Correlation between Sentiment and Stock Movement: 1.0727609322489785e-17\n",
            "T-statistic: 0.0, p-value: 1.0\n",
            "Visualization saved as sentiment_vs_stock_movement.png\n",
            "\n",
            "Top 10 words with highest impact on sentiment:\n",
            "strong: 0.6035461538461538\n",
            "25000: 0.6035461538461538\n",
            "momentum: 0.6035461538461538\n",
            "emerge: 0.5849820512820512\n",
            "ecosystem: 0.5849820512820512\n",
            "winners: 0.5849820512820512\n",
            "ev: 0.5849820512820512\n",
            "ancillary: 0.5849820512820512\n",
            "clarity: 0.5849820512820512\n",
            "past: 0.534692105263158\n"
          ]
        },
        {
          "output_type": "display_data",
          "data": {
            "text/plain": [
              "<Figure size 1000x600 with 1 Axes>"
            ],
            "image/png": "[encoded data removed]"
          },
          "metadata": {}
        }
      ]
    }
  ]
}